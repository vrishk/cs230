{
 "cells": [
  {
   "cell_type": "code",
   "execution_count": 21,
   "id": "041d51ce",
   "metadata": {},
   "outputs": [],
   "source": [
    "import glob\n",
    "import h5py\n",
    "import matplotlib.pyplot as plt\n",
    "import os\n",
    "from PIL import Image"
   ]
  },
  {
   "cell_type": "code",
   "execution_count": 30,
   "id": "13925006",
   "metadata": {},
   "outputs": [],
   "source": [
    "PATH_TO_PROCESSED_DATA = \"/deep/group/aihc-bootcamp-fall2021/lymphoma/processed\"\n",
    "PATH_TO_HOVERNET_IN = os.path.join(PATH_TO_PROCESSED_DATA, \"hovernet_in\")"
   ]
  },
  {
   "cell_type": "code",
   "execution_count": 24,
   "id": "b67a4e2e",
   "metadata": {},
   "outputs": [],
   "source": [
    "tma_hdf5_filenames = glob.glob(PATH_TO_TMA_PATCHES + \"/tma*.hdf5\")"
   ]
  },
  {
   "cell_type": "code",
   "execution_count": 36,
   "id": "aa64885c",
   "metadata": {},
   "outputs": [
    {
     "name": "stdout",
     "output_type": "stream",
     "text": [
      "tma6b\n",
      "tma1\n",
      "tma5\n",
      "tma4\n",
      "tma8\n",
      "tma2\n",
      "tma6a\n",
      "tma3\n"
     ]
    }
   ],
   "source": [
    "def build_patch_png_files_from_hdf5_files():\n",
    "    for filename in tma_hdf5_filenames:\n",
    "        tma_name = filename.split(\"/\")[len(filename.split(\"/\")) - 1].split(\".\")[0]\n",
    "        print(tma_name)\n",
    "        with h5py.File(filename, \"r\") as f:\n",
    "            for key in f.keys():\n",
    "                data = f[key]\n",
    "                num_patches = data.shape[0]\n",
    "                for i in range(num_patches):\n",
    "                    im = Image.fromarray(data[i])\n",
    "                    output_image_name = \"-\".join([tma_name, key.replace(\" \", \"\"), f'{i}.png'])\n",
    "                    image_path = os.path.join(PATH_TO_HOVERNET_IN, output_image_name)\n",
    "                    im.save(image_path)\n",
    "\n",
    "build_patch_png_files_from_hdf5_files()"
   ]
  },
  {
   "cell_type": "code",
   "execution_count": null,
   "id": "0189f762",
   "metadata": {},
   "outputs": [],
   "source": []
  }
 ],
 "metadata": {
  "kernelspec": {
   "display_name": "Python 3 (ipykernel)",
   "language": "python",
   "name": "python3"
  },
  "language_info": {
   "codemirror_mode": {
    "name": "ipython",
    "version": 3
   },
   "file_extension": ".py",
   "mimetype": "text/x-python",
   "name": "python",
   "nbconvert_exporter": "python",
   "pygments_lexer": "ipython3",
   "version": "3.7.11"
  }
 },
 "nbformat": 4,
 "nbformat_minor": 5
}
