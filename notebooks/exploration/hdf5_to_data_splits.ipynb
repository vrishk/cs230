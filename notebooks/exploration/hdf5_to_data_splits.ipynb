{
 "cells": [
  {
   "cell_type": "code",
   "execution_count": 1,
   "id": "3640c84a",
   "metadata": {},
   "outputs": [],
   "source": [
    "import cv2 as cv\n",
    "import glob\n",
    "import h5py\n",
    "import math\n",
    "import matplotlib\n",
    "import matplotlib.pyplot as plt\n",
    "import numpy as np\n",
    "import openslide\n",
    "import os\n",
    "import pandas as pd\n",
    "import random\n",
    "from PIL import Image\n",
    "from sklearn.model_selection import train_test_split"
   ]
  },
  {
   "cell_type": "code",
   "execution_count": 2,
   "id": "61c1b86c",
   "metadata": {},
   "outputs": [],
   "source": [
    "PATH_TO_PROCESSED_DATA = \"/deep/group/aihc-bootcamp-fall2021/lymphoma/processed\"\n",
    "PATH_TO_TMA_PATCHES = os.path.join(PATH_TO_PROCESSED_DATA, \"tma_patches\")\n",
    "PATH_TO_DATA_SPLITS = os.path.join(PATH_TO_PROCESSED_DATA, \"data_splits/transcription_splits/tma_patches\")\n",
    "\n",
    "PATH_TO_RAW_DATA = \"/deep/group/aihc-bootcamp-fall2021/lymphoma/raw\"\n",
    "PATH_TO_TRAIN_TEST_SPLIT = os.path.join(PATH_TO_RAW_DATA, \"train_test_split.csv\")\n",
    "\n",
    "PATH_TO_TRAIN_DATA = os.path.join(PATH_TO_DATA_SPLITS, \"train.hdf5\")\n",
    "PATH_TO_TEST_DATA = os.path.join(PATH_TO_DATA_SPLITS, \"test.hdf5\")"
   ]
  },
  {
   "cell_type": "code",
   "execution_count": 3,
   "id": "c3e6972c",
   "metadata": {},
   "outputs": [],
   "source": [
    "data_split_df = pd.read_csv(PATH_TO_TRAIN_TEST_SPLIT, delimiter=',')\n",
    "data_split_map = data_split_df.set_index('case')['split'].to_dict()"
   ]
  },
  {
   "cell_type": "code",
   "execution_count": 4,
   "id": "d68a25c4",
   "metadata": {},
   "outputs": [
    {
     "data": {
      "text/plain": [
       "['/deep/group/aihc-bootcamp-fall2021/lymphoma/processed/tma_patches/tma6b.hdf5',\n",
       " '/deep/group/aihc-bootcamp-fall2021/lymphoma/processed/tma_patches/tma1.hdf5',\n",
       " '/deep/group/aihc-bootcamp-fall2021/lymphoma/processed/tma_patches/tma5.hdf5',\n",
       " '/deep/group/aihc-bootcamp-fall2021/lymphoma/processed/tma_patches/tma4.hdf5',\n",
       " '/deep/group/aihc-bootcamp-fall2021/lymphoma/processed/tma_patches/tma8.hdf5',\n",
       " '/deep/group/aihc-bootcamp-fall2021/lymphoma/processed/tma_patches/tma2.hdf5',\n",
       " '/deep/group/aihc-bootcamp-fall2021/lymphoma/processed/tma_patches/tma6a.hdf5',\n",
       " '/deep/group/aihc-bootcamp-fall2021/lymphoma/processed/tma_patches/tma3.hdf5']"
      ]
     },
     "execution_count": 4,
     "metadata": {},
     "output_type": "execute_result"
    }
   ],
   "source": [
    "tma_hdf5_filenames = glob.glob(PATH_TO_TMA_PATCHES + \"/tma*.hdf5\")\n",
    "tma_hdf5_filenames"
   ]
  },
  {
   "cell_type": "code",
   "execution_count": 5,
   "id": "e3c35239",
   "metadata": {},
   "outputs": [
    {
     "name": "stdout",
     "output_type": "stream",
     "text": [
      "/deep/group/aihc-bootcamp-fall2021/lymphoma/processed/tma_patches/tma6b.hdf5\n",
      "/deep/group/aihc-bootcamp-fall2021/lymphoma/processed/tma_patches/tma1.hdf5\n",
      "/deep/group/aihc-bootcamp-fall2021/lymphoma/processed/tma_patches/tma5.hdf5\n",
      "/deep/group/aihc-bootcamp-fall2021/lymphoma/processed/tma_patches/tma4.hdf5\n",
      "/deep/group/aihc-bootcamp-fall2021/lymphoma/processed/tma_patches/tma8.hdf5\n",
      "/deep/group/aihc-bootcamp-fall2021/lymphoma/processed/tma_patches/tma2.hdf5\n",
      "/deep/group/aihc-bootcamp-fall2021/lymphoma/processed/tma_patches/tma6a.hdf5\n",
      "/deep/group/aihc-bootcamp-fall2021/lymphoma/processed/tma_patches/tma3.hdf5\n"
     ]
    }
   ],
   "source": [
    "def build_data_splits_from_hdf5_files(tma_hdf5_filenames):\n",
    "    included_patient_ids = set()\n",
    "    excluded_patient_ids = set()\n",
    "    train_patient_ids = []\n",
    "    test_patient_ids = []\n",
    "    train_f = h5py.File(PATH_TO_TRAIN_DATA, \"w\")\n",
    "    test_f = h5py.File(PATH_TO_TEST_DATA, \"w\")\n",
    "\n",
    "    patient_ids = set()\n",
    "    patient_id_repeats = {}\n",
    "\n",
    "    for filename in tma_hdf5_filenames:\n",
    "        print(filename)\n",
    "        \n",
    "        with h5py.File(filename, \"r\") as f:\n",
    "            for patient_id in f.keys():\n",
    "                data = f[patient_id]\n",
    "                patient_id_key = patient_id.split(\"_\")[0].replace(\" \", \"\")[:5]\n",
    "                if patient_id_key not in data_split_map:\n",
    "                    excluded_patient_ids.add(patient_id_key)\n",
    "                    continue\n",
    "\n",
    "                included_patient_ids.add(patient_id_key)\n",
    "                data_split = data_split_map[patient_id_key]\n",
    "                if data_split == \"train\":\n",
    "                    train_patient_ids.append(patient_id)\n",
    "                    out_f = train_f\n",
    "                else:\n",
    "                    assert(data_split == \"test\")\n",
    "                    test_patient_ids.append(patient_id)\n",
    "                    out_f = test_f\n",
    "\n",
    "                name = patient_id\n",
    "                # Deal with duplicate patients\n",
    "                if (patient_id not in patient_ids):\n",
    "                    patient_id_repeats[patient_id] = 0\n",
    "                patient_id_repeats[patient_id] += 1\n",
    "                name += f\"_v{patient_id_repeats[patient_id]}\"\n",
    "\n",
    "                dset = out_f.create_dataset(name, data=data, dtype='uint8', chunks=True)\n",
    "                dset.attrs['tma_id'] = data.attrs[\"tma_id\"]\n",
    "                dset.attrs['patient_id'] = data.attrs[\"patient_id\"]\n",
    "                dset.attrs['who_diagnosis'] = data.attrs[\"who_diagnosis\"]\n",
    "                dset.attrs['clpa_diagnosis'] = data.attrs[\"clpa_diagnosis\"]\n",
    "                dset.attrs['label'] = data.attrs[\"label\"]\n",
    "                patient_ids.add(patient_id)\n",
    "    #train_f.close()\n",
    "    #test_f.close()\n",
    "    return (included_patient_ids, excluded_patient_ids)\n",
    "\n",
    "(included_patient_ids, excluded_patient_ids) = build_data_splits_from_hdf5_files(tma_hdf5_filenames)\n",
    "\n",
    "# TODO(vishankar): Check for DUPLICATE patient_ids ACROSS TMA maps (because these are only labeled with patient ID).\n",
    "# TODO(vishankar): There was a mistake in TMA6A: E0710B was incorrectly labeled as E0709B."
   ]
  },
  {
   "cell_type": "code",
   "execution_count": 6,
   "id": "aa28012a",
   "metadata": {},
   "outputs": [
    {
     "name": "stdout",
     "output_type": "stream",
     "text": [
      "['E0264', 'E0274', 'E0278', 'E0279', 'E0282', 'E0286', 'E0317', 'E0330', 'E0335', 'E0360', 'E0361', 'E0452', 'E0477', 'E0500', 'E0502', 'E0507', 'E0551', 'E0555', 'E0710', 'E0758', 'E0934', 'E0935', 'E0936', 'E0937', 'E0938', 'E0939', 'E0940', 'E0941', 'E0942', 'E0943', 'E0944', 'E0945', 'E0946', 'E0947', 'E0948', 'E0949', 'E0950', 'E0951', 'E0952', 'E0953', 'E0955', 'E0956', 'E0957', 'E0959', 'E0960', 'E0961', 'E0962', 'E0963', 'E0964', 'E0965', 'E0966']\n"
     ]
    }
   ],
   "source": [
    "# Patient ids from train_test_split.csv that we weren't able to include in train/test.hdf5.\n",
    "# These patient ids are missing inside tma*.hdf5.\n",
    "print(sorted(set(data_split_map.keys()).difference(included_patient_ids)))\n",
    "\n",
    "# Question: Why aren't all the patient IDS in List_for_Oscar in the included list?\n",
    "# Answer: For E0477 and E0758, we couldn't extract any patches. For the majority of other patient ids, they \n",
    "# have the label: excluded and are \"NOT ON TMA\" or are part of TMA7 (which we don't have in our dataset)."
   ]
  }
 ],
 "metadata": {
  "kernelspec": {
   "display_name": "Python 3 (ipykernel)",
   "language": "python",
   "name": "python3"
  },
  "language_info": {
   "codemirror_mode": {
    "name": "ipython",
    "version": 3
   },
   "file_extension": ".py",
   "mimetype": "text/x-python",
   "name": "python",
   "nbconvert_exporter": "python",
   "pygments_lexer": "ipython3",
   "version": "3.8.11"
  }
 },
 "nbformat": 4,
 "nbformat_minor": 5
}
