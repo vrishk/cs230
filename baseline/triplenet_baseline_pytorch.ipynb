{
 "cells": [
  {
   "cell_type": "code",
   "execution_count": 1,
   "id": "83df188e",
   "metadata": {},
   "outputs": [],
   "source": [
    "import h5py\n",
    "import inspect\n",
    "import matplotlib.pyplot as plt\n",
    "import pandas as pd\n",
    "import numpy as np\n",
    "import os\n",
    "import seaborn as sns\n",
    "import sys\n",
    "import time\n",
    "import torch\n",
    "import torch.nn as nn\n",
    "import torch.nn.functional as F\n",
    "import torch.optim as optim\n",
    "import torchvision\n",
    "import torchvision.datasets as dset\n",
    "import torchvision.models as models\n",
    "import torchvision.transforms as T\n",
    "from collections import OrderedDict\n",
    "from collections import defaultdict\n",
    "from sklearn.metrics import accuracy_score, confusion_matrix, precision_score, recall_score, f1_score\n",
    "from torch.utils.data import Dataset, DataLoader, sampler\n",
    "from PIL import Image\n",
    "\n",
    "from tqdm.notebook import tqdm, trange\n",
    "\n",
    "%matplotlib inline"
   ]
  },
  {
   "cell_type": "markdown",
   "id": "e9f4bca7",
   "metadata": {},
   "source": [
    "## Inspect Available GPUs"
   ]
  },
  {
   "cell_type": "code",
   "execution_count": 2,
   "id": "5a7fcb03",
   "metadata": {},
   "outputs": [
    {
     "name": "stdout",
     "output_type": "stream",
     "text": [
      "Using gpu: True \n"
     ]
    }
   ],
   "source": [
    "use_gpu = torch.cuda.is_available()\n",
    "print('Using gpu: %s ' % use_gpu)\n",
    "\n",
    "def gpu(x,use_gpu=use_gpu):\n",
    "    if use_gpu:\n",
    "        return x.cuda()\n",
    "    else:\n",
    "        return x"
   ]
  },
  {
   "cell_type": "code",
   "execution_count": 3,
   "id": "1949baa6",
   "metadata": {},
   "outputs": [
    {
     "name": "stdout",
     "output_type": "stream",
     "text": [
      "Cuda is available: True\n",
      "Cuda device count: 2\n"
     ]
    }
   ],
   "source": [
    "print(\"Cuda is available:\", torch.cuda.is_available())\n",
    "print(\"Cuda device count:\", torch.cuda.device_count())"
   ]
  },
  {
   "cell_type": "markdown",
   "id": "5f78075a",
   "metadata": {},
   "source": [
    "## Create Datasets"
   ]
  },
  {
   "cell_type": "code",
   "execution_count": 4,
   "id": "42e88bec",
   "metadata": {},
   "outputs": [],
   "source": [
    "PATH_TO_TRAIN = \"/deep/group/aihc-bootcamp-fall2021/lymphoma/processed/data_splits/custom_splits/triplenet_features/triplenet_train_features.hdf5\"\n",
    "PATH_TO_VAL = \"/deep/group/aihc-bootcamp-fall2021/lymphoma/processed/data_splits/custom_splits/triplenet_features/triplenet_val_features.hdf5\"\n",
    "PATH_TO_TEST = \"/deep/group/aihc-bootcamp-fall2021/lymphoma/processed/data_splits/custom_splits/triplenet_features/triplenet_test_features.hdf5\""
   ]
  },
  {
   "cell_type": "code",
   "execution_count": 45,
   "id": "305b847c",
   "metadata": {},
   "outputs": [],
   "source": [
    "class MILDataset(Dataset):\n",
    "    \n",
    "    def __init__(self, hdf5_path: str, transform=None):\n",
    "        self.hdf5_path = hdf5_path\n",
    "        self.h5data = h5py.File(self.hdf5_path, \"r\")\n",
    "        self.cores = list(self.h5data.keys())\n",
    "        self.transform = transform\n",
    "        \n",
    "    def __len__(self):\n",
    "        return len(self.cores)\n",
    "    \n",
    "    def __getitem__(self, idx):\n",
    "        patient_id = self.cores[idx]\n",
    "        patches = self.h5data[patient_id][()]\n",
    "        label = self.h5data[patient_id].attrs[\"y\"]\n",
    "        if self.transform:\n",
    "            patches = self.transform(patches)\n",
    "        return torch.tensor(patches), torch.tensor(int(label))\n",
    "\n",
    "class NaiveDataset(Dataset):\n",
    "    def __init__(self, hdf5_path: str, transform=None):\n",
    "\n",
    "        self.hdf5_path = hdf5_path\n",
    "        self.h5data = h5py.File(self.hdf5_path, \"r\")\n",
    "        self.cores = list(self.h5data.keys())\n",
    "        \n",
    "        self.lengths = [len(self.h5data[i]) for i in self.cores]\n",
    "\n",
    "        self.transform = transform\n",
    "\n",
    "    def __len__(self):\n",
    "        return sum(self.lengths)\n",
    "\n",
    "    def __getitem__(self, idx):\n",
    "\n",
    "        core_idx = 0\n",
    "        for l in self.lengths:\n",
    "            if idx - self.lengths[core_idx] < 0:\n",
    "                break\n",
    "            idx -= self.lengths[core_idx]\n",
    "            core_idx += 1\n",
    "        \n",
    "        \n",
    "        core_id = self.cores[core_idx]\n",
    "        patch: np.ndarray = self.h5data[core_id][()][idx]\n",
    "        label = self.h5data[core_id].attrs[\"y\"]\n",
    "        \n",
    "        if self.transform:\n",
    "            patch = self.transform(patch)\n",
    "\n",
    "        return patch, torch.tensor(int(label))"
   ]
  },
  {
   "cell_type": "code",
   "execution_count": 46,
   "id": "d9e4c7bf",
   "metadata": {},
   "outputs": [],
   "source": [
    "# train_dataset = NaiveDataset(PATH_TO_TRAIN)\n",
    "# val_dataset = NaiveDataset(PATH_TO_VAL)\n",
    "# test_dataset = NaiveDataset(PATH_TO_TEST)\n",
    "\n",
    "train_dataset = MILDataset(PATH_TO_TRAIN)\n",
    "val_dataset = MILDataset(PATH_TO_VAL)\n",
    "test_dataset = MILDataset(PATH_TO_TEST)"
   ]
  },
  {
   "cell_type": "markdown",
   "id": "97d0430e",
   "metadata": {},
   "source": [
    "## Create Dataloaders"
   ]
  },
  {
   "cell_type": "code",
   "execution_count": 49,
   "id": "f8d0c7bc",
   "metadata": {},
   "outputs": [],
   "source": [
    "# Dataloaders\n",
    "train_dataloader = DataLoader(train_dataset, batch_size=1, num_workers=1, shuffle=True)\n",
    "val_dataloader = DataLoader(val_dataset, batch_size=1, num_workers=1, shuffle=True)\n",
    "test_dataloader = DataLoader(test_dataset, batch_size=1, num_workers=1, shuffle=True)"
   ]
  },
  {
   "cell_type": "code",
   "execution_count": 50,
   "id": "0c0231c8",
   "metadata": {},
   "outputs": [
    {
     "data": {
      "text/plain": [
       "defaultdict(int,\n",
       "            {1: 131, 0: 370, 3: 59, 7: 43, 8: 4, 4: 75, 6: 59, 5: 21, 2: 10})"
      ]
     },
     "execution_count": 50,
     "metadata": {},
     "output_type": "execute_result"
    }
   ],
   "source": [
    "# Output the label distribution in the train_dataloader\n",
    "label_counts = defaultdict(int)\n",
    "for (x,y) in train_dataloader:\n",
    "    label_counts[y.item()] += 1\n",
    "label_counts"
   ]
  },
  {
   "cell_type": "markdown",
   "id": "c52f7f41",
   "metadata": {},
   "source": [
    "## Create Linear Layer Above Feature Extractor"
   ]
  },
  {
   "cell_type": "code",
   "execution_count": 51,
   "id": "0a9bf1f4",
   "metadata": {},
   "outputs": [],
   "source": [
    "class LinearLayer(nn.Module):\n",
    "    def __init__(self, num_classes):\n",
    "        super().__init__()\n",
    "        self.linear = nn.Linear(256*3, num_classes)\n",
    "    \n",
    "    def forward(self, x):\n",
    "        out = self.linear(x)\n",
    "        return out\n",
    "\n",
    "model = LinearLayer(9)"
   ]
  },
  {
   "cell_type": "markdown",
   "id": "291dc4af",
   "metadata": {},
   "source": [
    "## Define Optimizer and Loss Criterion"
   ]
  },
  {
   "cell_type": "code",
   "execution_count": 52,
   "id": "35cea93d",
   "metadata": {},
   "outputs": [],
   "source": [
    "# learning_rate = 1e-2\n",
    "# optimizer = torch.optim.SGD(model.parameters(), lr=learning_rate)\n",
    "\n",
    "weights = [0.0058, 0.0156, 0.1861, 0.0357, 0.0291, 0.0994, 0.0341, 0.0542, 0.5400]\n",
    "\n",
    "optimizer = optim.Adam(model.parameters(), lr=1e-3)\n",
    "criterion = torch.nn.CrossEntropyLoss(weight=torch.tensor(weights).cuda())"
   ]
  },
  {
   "cell_type": "markdown",
   "id": "46361a04",
   "metadata": {},
   "source": [
    "## Define Training Loop"
   ]
  },
  {
   "cell_type": "code",
   "execution_count": 57,
   "id": "47cc2091",
   "metadata": {},
   "outputs": [],
   "source": [
    "def train_model(model, optimizer, epochs=1):\n",
    "    train_loss_history = []\n",
    "    train_accuracy_history = []\n",
    "    val_loss_history = []\n",
    "    val_accuracy_history = []\n",
    "    for epoch in range(epochs):\n",
    "        print(f\"Epoch: {epoch}\")\n",
    "        model.train()\n",
    "        batches = train_dataloader\n",
    "        num_correct, num_samples, total_loss = 0, 0, 0\n",
    "        i = 0\n",
    "        for x, y in tqdm(batches):\n",
    "            optimizer.zero_grad()\n",
    "            x, y = gpu(x.squeeze(dim=0)), gpu(y)\n",
    "            # x, y = gpu(x), gpu(y)\n",
    "            scores = model(x)\n",
    "            aggregated_scores = torch.max(scores, 0, keepdim=True)[0]\n",
    "            loss = criterion(aggregated_scores, y)\n",
    "            # loss = criterion(scores, y)\n",
    "            loss.backward()\n",
    "            optimizer.step()\n",
    "            _,preds = torch.max(aggregated_scores, 1)\n",
    "            # _,preds = torch.max(scores, 1)\n",
    "            total_loss += loss.data.item()\n",
    "            num_correct += torch.sum(preds == y.data)\n",
    "            num_samples += preds.size(0)\n",
    "            i += 1\n",
    "        print(f\"Completed {i} iterations in epoch\")\n",
    "        average_loss = total_loss / num_samples\n",
    "        acc = num_correct / num_samples\n",
    "        train_loss_history.append(average_loss)\n",
    "        train_accuracy_history.append(acc)\n",
    "        print('Epoch: {} Training Loss: {:.4f} Got {} / {} correct. Acc: {:.2f}%'.format(\n",
    "                     epoch + 1, average_loss, num_correct, num_samples, 100 * acc))\n",
    "        \n",
    "        check_accuracy(model, val_loss_history, val_accuracy_history, epoch)\n",
    "    \n",
    "    train_accuracy_history = [i.cpu() for i in train_accuracy_history]\n",
    "    val_accuracy_history = [i.cpu() for i in val_accuracy_history]\n",
    "    \n",
    "    return train_loss_history, train_accuracy_history, val_loss_history, val_accuracy_history\n",
    "\n",
    "def check_accuracy(model, val_loss_history, val_accuracy_history, epoch):\n",
    "    num_correct, num_samples, total_loss = 0, 0, 0\n",
    "    model.eval()\n",
    "    batches = val_dataloader\n",
    "    with torch.no_grad():\n",
    "        for x, y in tqdm(batches):\n",
    "            x, y = gpu(x.squeeze(dim=0)), gpu(y)\n",
    "            # x, y = gpu(x), gpu(y)\n",
    "            scores = model(x)\n",
    "            aggregated_scores = torch.max(scores, 0, keepdim=True)[0]\n",
    "            loss = criterion(aggregated_scores, y)\n",
    "            # loss = criterion(scores, y)\n",
    "            _, preds = torch.max(aggregated_scores, 1)\n",
    "            # _, preds = torch.max(scores, 1)\n",
    "            total_loss += loss.data.item()\n",
    "            num_correct += torch.sum(preds == y.data)\n",
    "            num_samples += preds.size(0)\n",
    "        average_loss = total_loss / num_samples\n",
    "        acc = num_correct / num_samples\n",
    "    val_loss_history.append(average_loss)\n",
    "    val_accuracy_history.append(acc)\n",
    "    print('Epoch: {} Validation Loss: {:.4f} Got {} / {} correct {:.2f}%'.format(\n",
    "        epoch + 1, average_loss, num_correct, num_samples, 100 * acc))"
   ]
  },
  {
   "cell_type": "code",
   "execution_count": 58,
   "id": "be510e9d",
   "metadata": {
    "tags": []
   },
   "outputs": [
    {
     "name": "stdout",
     "output_type": "stream",
     "text": [
      "Epoch: 0\n"
     ]
    },
    {
     "data": {
      "application/vnd.jupyter.widget-view+json": {
       "model_id": "fcd97654106d480692206271c7d94045",
       "version_major": 2,
       "version_minor": 0
      },
      "text/plain": [
       "  0%|          | 0/772 [00:00<?, ?it/s]"
      ]
     },
     "metadata": {},
     "output_type": "display_data"
    },
    {
     "name": "stdout",
     "output_type": "stream",
     "text": [
      "Completed 772 iterations in epoch\n",
      "Epoch: 1 Training Loss: 1.5032 Got 375 / 772 correct. Acc: 48.58%\n"
     ]
    },
    {
     "data": {
      "application/vnd.jupyter.widget-view+json": {
       "model_id": "e03d631d43a041f2bb1a89bd25122268",
       "version_major": 2,
       "version_minor": 0
      },
      "text/plain": [
       "  0%|          | 0/276 [00:00<?, ?it/s]"
      ]
     },
     "metadata": {},
     "output_type": "display_data"
    },
    {
     "name": "stdout",
     "output_type": "stream",
     "text": [
      "Epoch: 1 Validation Loss: 1.8660 Got 106 / 276 correct 38.41%\n",
      "Epoch: 1\n"
     ]
    },
    {
     "data": {
      "application/vnd.jupyter.widget-view+json": {
       "model_id": "bcf3012ab08449cabcfbbccca1fc1963",
       "version_major": 2,
       "version_minor": 0
      },
      "text/plain": [
       "  0%|          | 0/772 [00:00<?, ?it/s]"
      ]
     },
     "metadata": {},
     "output_type": "display_data"
    },
    {
     "name": "stdout",
     "output_type": "stream",
     "text": [
      "Completed 772 iterations in epoch\n",
      "Epoch: 2 Training Loss: 1.5080 Got 375 / 772 correct. Acc: 48.58%\n"
     ]
    },
    {
     "data": {
      "application/vnd.jupyter.widget-view+json": {
       "model_id": "ca23eb82f2ca4490b54c377e613c8a55",
       "version_major": 2,
       "version_minor": 0
      },
      "text/plain": [
       "  0%|          | 0/276 [00:00<?, ?it/s]"
      ]
     },
     "metadata": {},
     "output_type": "display_data"
    },
    {
     "name": "stdout",
     "output_type": "stream",
     "text": [
      "Epoch: 2 Validation Loss: 1.8855 Got 111 / 276 correct 40.22%\n",
      "Epoch: 2\n"
     ]
    },
    {
     "data": {
      "application/vnd.jupyter.widget-view+json": {
       "model_id": "e70437eab96b433699827395c626a903",
       "version_major": 2,
       "version_minor": 0
      },
      "text/plain": [
       "  0%|          | 0/772 [00:00<?, ?it/s]"
      ]
     },
     "metadata": {},
     "output_type": "display_data"
    },
    {
     "name": "stdout",
     "output_type": "stream",
     "text": [
      "Completed 772 iterations in epoch\n",
      "Epoch: 3 Training Loss: 1.5043 Got 375 / 772 correct. Acc: 48.58%\n"
     ]
    },
    {
     "data": {
      "application/vnd.jupyter.widget-view+json": {
       "model_id": "ad77bac21831459890017344d1e0a1d4",
       "version_major": 2,
       "version_minor": 0
      },
      "text/plain": [
       "  0%|          | 0/276 [00:00<?, ?it/s]"
      ]
     },
     "metadata": {},
     "output_type": "display_data"
    },
    {
     "name": "stdout",
     "output_type": "stream",
     "text": [
      "Epoch: 3 Validation Loss: 1.8624 Got 110 / 276 correct 39.86%\n",
      "Epoch: 3\n"
     ]
    },
    {
     "data": {
      "application/vnd.jupyter.widget-view+json": {
       "model_id": "6c3ee67a0b934e078b03e3bc7b97e9b2",
       "version_major": 2,
       "version_minor": 0
      },
      "text/plain": [
       "  0%|          | 0/772 [00:00<?, ?it/s]"
      ]
     },
     "metadata": {},
     "output_type": "display_data"
    },
    {
     "name": "stdout",
     "output_type": "stream",
     "text": [
      "Completed 772 iterations in epoch\n",
      "Epoch: 4 Training Loss: 1.5005 Got 380 / 772 correct. Acc: 49.22%\n"
     ]
    },
    {
     "data": {
      "application/vnd.jupyter.widget-view+json": {
       "model_id": "f5696afd567341a09a52188513e7e283",
       "version_major": 2,
       "version_minor": 0
      },
      "text/plain": [
       "  0%|          | 0/276 [00:00<?, ?it/s]"
      ]
     },
     "metadata": {},
     "output_type": "display_data"
    },
    {
     "name": "stdout",
     "output_type": "stream",
     "text": [
      "Epoch: 4 Validation Loss: 1.8829 Got 110 / 276 correct 39.86%\n",
      "Epoch: 4\n"
     ]
    },
    {
     "data": {
      "application/vnd.jupyter.widget-view+json": {
       "model_id": "bc7bf9d40e43402faab32e834eaa4ccf",
       "version_major": 2,
       "version_minor": 0
      },
      "text/plain": [
       "  0%|          | 0/772 [00:00<?, ?it/s]"
      ]
     },
     "metadata": {},
     "output_type": "display_data"
    },
    {
     "name": "stdout",
     "output_type": "stream",
     "text": [
      "Completed 772 iterations in epoch\n",
      "Epoch: 5 Training Loss: 1.4940 Got 373 / 772 correct. Acc: 48.32%\n"
     ]
    },
    {
     "data": {
      "application/vnd.jupyter.widget-view+json": {
       "model_id": "36705155a033439d81b05e553f7071fc",
       "version_major": 2,
       "version_minor": 0
      },
      "text/plain": [
       "  0%|          | 0/276 [00:00<?, ?it/s]"
      ]
     },
     "metadata": {},
     "output_type": "display_data"
    },
    {
     "name": "stdout",
     "output_type": "stream",
     "text": [
      "Epoch: 5 Validation Loss: 1.8426 Got 111 / 276 correct 40.22%\n",
      "Epoch: 5\n"
     ]
    },
    {
     "data": {
      "application/vnd.jupyter.widget-view+json": {
       "model_id": "147a18fa28c04a16ae65656cb6d3f423",
       "version_major": 2,
       "version_minor": 0
      },
      "text/plain": [
       "  0%|          | 0/772 [00:00<?, ?it/s]"
      ]
     },
     "metadata": {},
     "output_type": "display_data"
    },
    {
     "name": "stdout",
     "output_type": "stream",
     "text": [
      "Completed 772 iterations in epoch\n",
      "Epoch: 6 Training Loss: 1.4935 Got 373 / 772 correct. Acc: 48.32%\n"
     ]
    },
    {
     "data": {
      "application/vnd.jupyter.widget-view+json": {
       "model_id": "35939efa70ff4a5c82715a8fc5a22e16",
       "version_major": 2,
       "version_minor": 0
      },
      "text/plain": [
       "  0%|          | 0/276 [00:00<?, ?it/s]"
      ]
     },
     "metadata": {},
     "output_type": "display_data"
    },
    {
     "name": "stdout",
     "output_type": "stream",
     "text": [
      "Epoch: 6 Validation Loss: 1.9048 Got 110 / 276 correct 39.86%\n",
      "Epoch: 6\n"
     ]
    },
    {
     "data": {
      "application/vnd.jupyter.widget-view+json": {
       "model_id": "1ab859ffe8f14cb5b3c1f72477d66dba",
       "version_major": 2,
       "version_minor": 0
      },
      "text/plain": [
       "  0%|          | 0/772 [00:00<?, ?it/s]"
      ]
     },
     "metadata": {},
     "output_type": "display_data"
    },
    {
     "name": "stdout",
     "output_type": "stream",
     "text": [
      "Completed 772 iterations in epoch\n",
      "Epoch: 7 Training Loss: 1.4926 Got 376 / 772 correct. Acc: 48.70%\n"
     ]
    },
    {
     "data": {
      "application/vnd.jupyter.widget-view+json": {
       "model_id": "103693346b5b4e1ebcd95a67aab1bee8",
       "version_major": 2,
       "version_minor": 0
      },
      "text/plain": [
       "  0%|          | 0/276 [00:00<?, ?it/s]"
      ]
     },
     "metadata": {},
     "output_type": "display_data"
    },
    {
     "name": "stdout",
     "output_type": "stream",
     "text": [
      "Epoch: 7 Validation Loss: 1.8712 Got 110 / 276 correct 39.86%\n",
      "Epoch: 7\n"
     ]
    },
    {
     "data": {
      "application/vnd.jupyter.widget-view+json": {
       "model_id": "1ef402a3547a4ed499d4958df1d50f3b",
       "version_major": 2,
       "version_minor": 0
      },
      "text/plain": [
       "  0%|          | 0/772 [00:00<?, ?it/s]"
      ]
     },
     "metadata": {},
     "output_type": "display_data"
    },
    {
     "name": "stdout",
     "output_type": "stream",
     "text": [
      "Completed 772 iterations in epoch\n",
      "Epoch: 8 Training Loss: 1.4854 Got 378 / 772 correct. Acc: 48.96%\n"
     ]
    },
    {
     "data": {
      "application/vnd.jupyter.widget-view+json": {
       "model_id": "18a4e7aa4eb6458980772885d16a4bd1",
       "version_major": 2,
       "version_minor": 0
      },
      "text/plain": [
       "  0%|          | 0/276 [00:00<?, ?it/s]"
      ]
     },
     "metadata": {},
     "output_type": "display_data"
    },
    {
     "name": "stdout",
     "output_type": "stream",
     "text": [
      "Epoch: 8 Validation Loss: 1.8970 Got 110 / 276 correct 39.86%\n",
      "Epoch: 8\n"
     ]
    },
    {
     "data": {
      "application/vnd.jupyter.widget-view+json": {
       "model_id": "ed9193c684e742dbaa4bdf70ac745a35",
       "version_major": 2,
       "version_minor": 0
      },
      "text/plain": [
       "  0%|          | 0/772 [00:00<?, ?it/s]"
      ]
     },
     "metadata": {},
     "output_type": "display_data"
    },
    {
     "name": "stdout",
     "output_type": "stream",
     "text": [
      "Completed 772 iterations in epoch\n",
      "Epoch: 9 Training Loss: 1.4838 Got 377 / 772 correct. Acc: 48.83%\n"
     ]
    },
    {
     "data": {
      "application/vnd.jupyter.widget-view+json": {
       "model_id": "248c9f75cb7d40a4970a47709b88ab19",
       "version_major": 2,
       "version_minor": 0
      },
      "text/plain": [
       "  0%|          | 0/276 [00:00<?, ?it/s]"
      ]
     },
     "metadata": {},
     "output_type": "display_data"
    },
    {
     "name": "stdout",
     "output_type": "stream",
     "text": [
      "Epoch: 9 Validation Loss: 1.9061 Got 110 / 276 correct 39.86%\n",
      "Epoch: 9\n"
     ]
    },
    {
     "data": {
      "application/vnd.jupyter.widget-view+json": {
       "model_id": "3678e619fe1b44beb068d9a0d62d8888",
       "version_major": 2,
       "version_minor": 0
      },
      "text/plain": [
       "  0%|          | 0/772 [00:00<?, ?it/s]"
      ]
     },
     "metadata": {},
     "output_type": "display_data"
    },
    {
     "name": "stdout",
     "output_type": "stream",
     "text": [
      "Completed 772 iterations in epoch\n",
      "Epoch: 10 Training Loss: 1.4759 Got 376 / 772 correct. Acc: 48.70%\n"
     ]
    },
    {
     "data": {
      "application/vnd.jupyter.widget-view+json": {
       "model_id": "aeffeb9459984e49b1f7c06e628b2705",
       "version_major": 2,
       "version_minor": 0
      },
      "text/plain": [
       "  0%|          | 0/276 [00:00<?, ?it/s]"
      ]
     },
     "metadata": {},
     "output_type": "display_data"
    },
    {
     "name": "stdout",
     "output_type": "stream",
     "text": [
      "Epoch: 10 Validation Loss: 1.8693 Got 106 / 276 correct 38.41%\n",
      "CPU times: user 23.2 s, sys: 4.11 s, total: 27.3 s\n",
      "Wall time: 54.8 s\n"
     ]
    }
   ],
   "source": [
    "%%time\n",
    "epochs = 10\n",
    "LOSS, ACC, LOSS_V, ACC_V = train_model(gpu(model), optimizer, epochs=epochs)"
   ]
  },
  {
   "cell_type": "code",
   "execution_count": 59,
   "id": "2a583810-33f1-4526-a1a5-15d67fe2565d",
   "metadata": {},
   "outputs": [],
   "source": [
    "def plot(l, l_v):\n",
    "    plt.plot([i for i in range(len(l))], l, 'r', [i for i in range(len(l_v))], l_v, 'b')"
   ]
  },
  {
   "cell_type": "code",
   "execution_count": 60,
   "id": "ed835ac1-416a-4b84-8db2-a9e21f44bb5a",
   "metadata": {},
   "outputs": [
    {
     "data": {
      "image/png": "[encoded data removed]",
      "text/plain": [
       "<Figure size 432x288 with 1 Axes>"
      ]
     },
     "metadata": {
      "needs_background": "light"
     },
     "output_type": "display_data"
    }
   ],
   "source": [
    "plot(LOSS, LOSS_V)"
   ]
  },
  {
   "cell_type": "code",
   "execution_count": 61,
   "id": "e3aaefe3-ad24-4966-992b-0f419265b064",
   "metadata": {},
   "outputs": [
    {
     "data": {
      "image/png": "[encoded data removed]",
      "text/plain": [
       "<Figure size 432x288 with 1 Axes>"
      ]
     },
     "metadata": {
      "needs_background": "light"
     },
     "output_type": "display_data"
    }
   ],
   "source": [
    "ACC = [i.cpu() for i in ACC]\n",
    "ACC_V = [i.cpu() for i in ACC_V]\n",
    "\n",
    "plot(ACC, ACC_V)"
   ]
  },
  {
   "cell_type": "code",
   "execution_count": 62,
   "id": "a62edf4a",
   "metadata": {},
   "outputs": [
    {
     "name": "stdout",
     "output_type": "stream",
     "text": [
      "Successfully saved model!\n"
     ]
    }
   ],
   "source": [
    "PATH = \"triplenet_model.dat\"\n",
    "torch.save(model, PATH)\n",
    "print(\"Successfully saved model!\")"
   ]
  },
  {
   "cell_type": "code",
   "execution_count": 63,
   "id": "c6438ef9",
   "metadata": {},
   "outputs": [
    {
     "name": "stdout",
     "output_type": "stream",
     "text": [
      "Parameter containing:\n",
      "tensor([[ 0.3003,  0.0120,  0.1077,  ...,  0.0441,  0.0222, -0.1945],\n",
      "        [ 0.0123,  0.2394, -0.3469,  ..., -0.3107, -0.1252,  0.0574],\n",
      "        [-0.5291, -0.2442, -0.4915,  ...,  0.2477, -0.2846,  0.1694],\n",
      "        ...,\n",
      "        [-0.2174, -0.0525, -0.1490,  ...,  0.2373,  0.2341,  0.1522],\n",
      "        [-0.1220, -0.0158,  0.0024,  ..., -0.0170,  0.2349,  0.1357],\n",
      "        [-0.1979, -0.2005, -0.6958,  ...,  0.0872, -0.7635,  0.2299]],\n",
      "       device='cuda:0', requires_grad=True)\n",
      "Parameter containing:\n",
      "tensor([ 0.0108, -0.0143, -0.0500, -0.0754,  0.0282,  0.0477, -0.0282, -0.1189,\n",
      "        -0.0360], device='cuda:0', requires_grad=True)\n"
     ]
    }
   ],
   "source": [
    "# Print out the model parameters after training.\n",
    "for name, param in model.named_parameters():\n",
    "    print(param)"
   ]
  },
  {
   "cell_type": "markdown",
   "id": "0c672998",
   "metadata": {},
   "source": [
    "## Load Saved Model"
   ]
  },
  {
   "cell_type": "code",
   "execution_count": 64,
   "id": "5cf7c97f",
   "metadata": {},
   "outputs": [],
   "source": [
    "PATH = \"triplenet_model.dat\"\n",
    "loaded_model = torch.load(PATH)\n",
    "loaded_model = gpu(loaded_model)\n",
    "model = loaded_model"
   ]
  },
  {
   "cell_type": "code",
   "execution_count": 65,
   "id": "1c2b707c",
   "metadata": {},
   "outputs": [],
   "source": [
    "optimizer = optim.Adam(model.parameters(), lr=1e-4)\n",
    "criterion = torch.nn.CrossEntropyLoss() "
   ]
  },
  {
   "cell_type": "markdown",
   "id": "38950679",
   "metadata": {},
   "source": [
    "## Resume Training with Loaded Model"
   ]
  },
  {
   "cell_type": "code",
   "execution_count": 66,
   "id": "50494584",
   "metadata": {
    "tags": []
   },
   "outputs": [
    {
     "name": "stdout",
     "output_type": "stream",
     "text": [
      "Epoch: 0\n"
     ]
    },
    {
     "data": {
      "application/vnd.jupyter.widget-view+json": {
       "model_id": "ec015ea487404041a2efc896eb9bf55d",
       "version_major": 2,
       "version_minor": 0
      },
      "text/plain": [
       "  0%|          | 0/772 [00:00<?, ?it/s]"
      ]
     },
     "metadata": {},
     "output_type": "display_data"
    },
    {
     "name": "stdout",
     "output_type": "stream",
     "text": [
      "Completed 772 iterations in epoch\n",
      "Epoch: 1 Training Loss: 1.4598 Got 381 / 772 correct. Acc: 49.35%\n"
     ]
    },
    {
     "data": {
      "application/vnd.jupyter.widget-view+json": {
       "model_id": "e531ec0797904d1c80852d55bc033222",
       "version_major": 2,
       "version_minor": 0
      },
      "text/plain": [
       "  0%|          | 0/276 [00:00<?, ?it/s]"
      ]
     },
     "metadata": {},
     "output_type": "display_data"
    },
    {
     "name": "stdout",
     "output_type": "stream",
     "text": [
      "Epoch: 1 Validation Loss: 1.8654 Got 112 / 276 correct 40.58%\n",
      "Epoch: 1\n"
     ]
    },
    {
     "data": {
      "application/vnd.jupyter.widget-view+json": {
       "model_id": "7bc028ec71304a65a420940986a4f136",
       "version_major": 2,
       "version_minor": 0
      },
      "text/plain": [
       "  0%|          | 0/772 [00:00<?, ?it/s]"
      ]
     },
     "metadata": {},
     "output_type": "display_data"
    },
    {
     "name": "stdout",
     "output_type": "stream",
     "text": [
      "Completed 772 iterations in epoch\n",
      "Epoch: 2 Training Loss: 1.4528 Got 375 / 772 correct. Acc: 48.58%\n"
     ]
    },
    {
     "data": {
      "application/vnd.jupyter.widget-view+json": {
       "model_id": "8dcc9743b1b64bd6b036ef198470638d",
       "version_major": 2,
       "version_minor": 0
      },
      "text/plain": [
       "  0%|          | 0/276 [00:00<?, ?it/s]"
      ]
     },
     "metadata": {},
     "output_type": "display_data"
    },
    {
     "name": "stdout",
     "output_type": "stream",
     "text": [
      "Epoch: 2 Validation Loss: 1.8672 Got 110 / 276 correct 39.86%\n",
      "Epoch: 2\n"
     ]
    },
    {
     "data": {
      "application/vnd.jupyter.widget-view+json": {
       "model_id": "29cd79773a414d0c8603a6ebe30c8f11",
       "version_major": 2,
       "version_minor": 0
      },
      "text/plain": [
       "  0%|          | 0/772 [00:00<?, ?it/s]"
      ]
     },
     "metadata": {},
     "output_type": "display_data"
    },
    {
     "name": "stdout",
     "output_type": "stream",
     "text": [
      "Completed 772 iterations in epoch\n",
      "Epoch: 3 Training Loss: 1.4507 Got 377 / 772 correct. Acc: 48.83%\n"
     ]
    },
    {
     "data": {
      "application/vnd.jupyter.widget-view+json": {
       "model_id": "e8200f7ab1ee4255b067f259c982c5f0",
       "version_major": 2,
       "version_minor": 0
      },
      "text/plain": [
       "  0%|          | 0/276 [00:00<?, ?it/s]"
      ]
     },
     "metadata": {},
     "output_type": "display_data"
    },
    {
     "name": "stdout",
     "output_type": "stream",
     "text": [
      "Epoch: 3 Validation Loss: 1.8652 Got 110 / 276 correct 39.86%\n",
      "Epoch: 3\n"
     ]
    },
    {
     "data": {
      "application/vnd.jupyter.widget-view+json": {
       "model_id": "a8a1ac157a1d4e0f97422d0fe10e36b7",
       "version_major": 2,
       "version_minor": 0
      },
      "text/plain": [
       "  0%|          | 0/772 [00:00<?, ?it/s]"
      ]
     },
     "metadata": {},
     "output_type": "display_data"
    },
    {
     "name": "stdout",
     "output_type": "stream",
     "text": [
      "Completed 772 iterations in epoch\n",
      "Epoch: 4 Training Loss: 1.4502 Got 378 / 772 correct. Acc: 48.96%\n"
     ]
    },
    {
     "data": {
      "application/vnd.jupyter.widget-view+json": {
       "model_id": "f3597ad915dc4dd5a67438aea4d454c5",
       "version_major": 2,
       "version_minor": 0
      },
      "text/plain": [
       "  0%|          | 0/276 [00:00<?, ?it/s]"
      ]
     },
     "metadata": {},
     "output_type": "display_data"
    },
    {
     "name": "stdout",
     "output_type": "stream",
     "text": [
      "Epoch: 4 Validation Loss: 1.8627 Got 110 / 276 correct 39.86%\n",
      "Epoch: 4\n"
     ]
    },
    {
     "data": {
      "application/vnd.jupyter.widget-view+json": {
       "model_id": "9cd4370d21c040feb1fca3ebd9b1e2dd",
       "version_major": 2,
       "version_minor": 0
      },
      "text/plain": [
       "  0%|          | 0/772 [00:00<?, ?it/s]"
      ]
     },
     "metadata": {},
     "output_type": "display_data"
    },
    {
     "name": "stdout",
     "output_type": "stream",
     "text": [
      "Completed 772 iterations in epoch\n",
      "Epoch: 5 Training Loss: 1.4498 Got 378 / 772 correct. Acc: 48.96%\n"
     ]
    },
    {
     "data": {
      "application/vnd.jupyter.widget-view+json": {
       "model_id": "98da5537f3a244c490a8a091e7bac437",
       "version_major": 2,
       "version_minor": 0
      },
      "text/plain": [
       "  0%|          | 0/276 [00:00<?, ?it/s]"
      ]
     },
     "metadata": {},
     "output_type": "display_data"
    },
    {
     "name": "stdout",
     "output_type": "stream",
     "text": [
      "Epoch: 5 Validation Loss: 1.8641 Got 110 / 276 correct 39.86%\n",
      "Epoch: 5\n"
     ]
    },
    {
     "data": {
      "application/vnd.jupyter.widget-view+json": {
       "model_id": "be4458fe4b74416ebf98ceb124026a36",
       "version_major": 2,
       "version_minor": 0
      },
      "text/plain": [
       "  0%|          | 0/772 [00:00<?, ?it/s]"
      ]
     },
     "metadata": {},
     "output_type": "display_data"
    },
    {
     "name": "stdout",
     "output_type": "stream",
     "text": [
      "Completed 772 iterations in epoch\n",
      "Epoch: 6 Training Loss: 1.4494 Got 378 / 772 correct. Acc: 48.96%\n"
     ]
    },
    {
     "data": {
      "application/vnd.jupyter.widget-view+json": {
       "model_id": "970e1b95f5e94315ad3c5c9ff2221c9f",
       "version_major": 2,
       "version_minor": 0
      },
      "text/plain": [
       "  0%|          | 0/276 [00:00<?, ?it/s]"
      ]
     },
     "metadata": {},
     "output_type": "display_data"
    },
    {
     "name": "stdout",
     "output_type": "stream",
     "text": [
      "Epoch: 6 Validation Loss: 1.8663 Got 110 / 276 correct 39.86%\n",
      "Epoch: 6\n"
     ]
    },
    {
     "data": {
      "application/vnd.jupyter.widget-view+json": {
       "model_id": "2c74c8e492c9425dba3cd7f0820d4097",
       "version_major": 2,
       "version_minor": 0
      },
      "text/plain": [
       "  0%|          | 0/772 [00:00<?, ?it/s]"
      ]
     },
     "metadata": {},
     "output_type": "display_data"
    },
    {
     "name": "stdout",
     "output_type": "stream",
     "text": [
      "Completed 772 iterations in epoch\n",
      "Epoch: 7 Training Loss: 1.4485 Got 377 / 772 correct. Acc: 48.83%\n"
     ]
    },
    {
     "data": {
      "application/vnd.jupyter.widget-view+json": {
       "model_id": "46c944b10f464470b6b4df4031d0e91a",
       "version_major": 2,
       "version_minor": 0
      },
      "text/plain": [
       "  0%|          | 0/276 [00:00<?, ?it/s]"
      ]
     },
     "metadata": {},
     "output_type": "display_data"
    },
    {
     "name": "stdout",
     "output_type": "stream",
     "text": [
      "Epoch: 7 Validation Loss: 1.8624 Got 110 / 276 correct 39.86%\n",
      "Epoch: 7\n"
     ]
    },
    {
     "data": {
      "application/vnd.jupyter.widget-view+json": {
       "model_id": "7e11778b7dd149fdb00eb50ccd31fb26",
       "version_major": 2,
       "version_minor": 0
      },
      "text/plain": [
       "  0%|          | 0/772 [00:00<?, ?it/s]"
      ]
     },
     "metadata": {},
     "output_type": "display_data"
    },
    {
     "name": "stdout",
     "output_type": "stream",
     "text": [
      "Completed 772 iterations in epoch\n",
      "Epoch: 8 Training Loss: 1.4489 Got 380 / 772 correct. Acc: 49.22%\n"
     ]
    },
    {
     "data": {
      "application/vnd.jupyter.widget-view+json": {
       "model_id": "5c13581a7be643c9935dbb5af39ae3c0",
       "version_major": 2,
       "version_minor": 0
      },
      "text/plain": [
       "  0%|          | 0/276 [00:00<?, ?it/s]"
      ]
     },
     "metadata": {},
     "output_type": "display_data"
    },
    {
     "name": "stdout",
     "output_type": "stream",
     "text": [
      "Epoch: 8 Validation Loss: 1.8651 Got 110 / 276 correct 39.86%\n",
      "Epoch: 8\n"
     ]
    },
    {
     "data": {
      "application/vnd.jupyter.widget-view+json": {
       "model_id": "5b31738085a649e9937b30ee69a0ca93",
       "version_major": 2,
       "version_minor": 0
      },
      "text/plain": [
       "  0%|          | 0/772 [00:00<?, ?it/s]"
      ]
     },
     "metadata": {},
     "output_type": "display_data"
    },
    {
     "name": "stdout",
     "output_type": "stream",
     "text": [
      "Completed 772 iterations in epoch\n",
      "Epoch: 9 Training Loss: 1.4480 Got 377 / 772 correct. Acc: 48.83%\n"
     ]
    },
    {
     "data": {
      "application/vnd.jupyter.widget-view+json": {
       "model_id": "d6b1e553e16945aea100b95e85845ce8",
       "version_major": 2,
       "version_minor": 0
      },
      "text/plain": [
       "  0%|          | 0/276 [00:00<?, ?it/s]"
      ]
     },
     "metadata": {},
     "output_type": "display_data"
    },
    {
     "name": "stdout",
     "output_type": "stream",
     "text": [
      "Epoch: 9 Validation Loss: 1.8744 Got 110 / 276 correct 39.86%\n",
      "Epoch: 9\n"
     ]
    },
    {
     "data": {
      "application/vnd.jupyter.widget-view+json": {
       "model_id": "d328752fcb69495eb81607c10ae725a1",
       "version_major": 2,
       "version_minor": 0
      },
      "text/plain": [
       "  0%|          | 0/772 [00:00<?, ?it/s]"
      ]
     },
     "metadata": {},
     "output_type": "display_data"
    },
    {
     "name": "stdout",
     "output_type": "stream",
     "text": [
      "Completed 772 iterations in epoch\n",
      "Epoch: 10 Training Loss: 1.4485 Got 380 / 772 correct. Acc: 49.22%\n"
     ]
    },
    {
     "data": {
      "application/vnd.jupyter.widget-view+json": {
       "model_id": "db71a0ffcc12485d8ff7f4a6e6b274ee",
       "version_major": 2,
       "version_minor": 0
      },
      "text/plain": [
       "  0%|          | 0/276 [00:00<?, ?it/s]"
      ]
     },
     "metadata": {},
     "output_type": "display_data"
    },
    {
     "name": "stdout",
     "output_type": "stream",
     "text": [
      "Epoch: 10 Validation Loss: 1.8705 Got 110 / 276 correct 39.86%\n",
      "Epoch: 10\n"
     ]
    },
    {
     "data": {
      "application/vnd.jupyter.widget-view+json": {
       "model_id": "8c3debc0c08c42dfbb372595d2307a0e",
       "version_major": 2,
       "version_minor": 0
      },
      "text/plain": [
       "  0%|          | 0/772 [00:00<?, ?it/s]"
      ]
     },
     "metadata": {},
     "output_type": "display_data"
    },
    {
     "name": "stdout",
     "output_type": "stream",
     "text": [
      "Completed 772 iterations in epoch\n",
      "Epoch: 11 Training Loss: 1.4476 Got 378 / 772 correct. Acc: 48.96%\n"
     ]
    },
    {
     "data": {
      "application/vnd.jupyter.widget-view+json": {
       "model_id": "430f5493765541159fc4929939454bf4",
       "version_major": 2,
       "version_minor": 0
      },
      "text/plain": [
       "  0%|          | 0/276 [00:00<?, ?it/s]"
      ]
     },
     "metadata": {},
     "output_type": "display_data"
    },
    {
     "name": "stdout",
     "output_type": "stream",
     "text": [
      "Epoch: 11 Validation Loss: 1.8662 Got 110 / 276 correct 39.86%\n",
      "Epoch: 11\n"
     ]
    },
    {
     "data": {
      "application/vnd.jupyter.widget-view+json": {
       "model_id": "333a39f085c64630a72d3ed62f73e718",
       "version_major": 2,
       "version_minor": 0
      },
      "text/plain": [
       "  0%|          | 0/772 [00:00<?, ?it/s]"
      ]
     },
     "metadata": {},
     "output_type": "display_data"
    },
    {
     "name": "stdout",
     "output_type": "stream",
     "text": [
      "Completed 772 iterations in epoch\n",
      "Epoch: 12 Training Loss: 1.4477 Got 377 / 772 correct. Acc: 48.83%\n"
     ]
    },
    {
     "data": {
      "application/vnd.jupyter.widget-view+json": {
       "model_id": "35b6209f0e5f458d924848a48257840a",
       "version_major": 2,
       "version_minor": 0
      },
      "text/plain": [
       "  0%|          | 0/276 [00:00<?, ?it/s]"
      ]
     },
     "metadata": {},
     "output_type": "display_data"
    },
    {
     "name": "stdout",
     "output_type": "stream",
     "text": [
      "Epoch: 12 Validation Loss: 1.8662 Got 110 / 276 correct 39.86%\n",
      "Epoch: 12\n"
     ]
    },
    {
     "data": {
      "application/vnd.jupyter.widget-view+json": {
       "model_id": "974f612f27864999a16a8c15ea32061d",
       "version_major": 2,
       "version_minor": 0
      },
      "text/plain": [
       "  0%|          | 0/772 [00:00<?, ?it/s]"
      ]
     },
     "metadata": {},
     "output_type": "display_data"
    },
    {
     "name": "stdout",
     "output_type": "stream",
     "text": [
      "Completed 772 iterations in epoch\n",
      "Epoch: 13 Training Loss: 1.4472 Got 378 / 772 correct. Acc: 48.96%\n"
     ]
    },
    {
     "data": {
      "application/vnd.jupyter.widget-view+json": {
       "model_id": "0eacb205a0bf4c5698827a3a4c60db37",
       "version_major": 2,
       "version_minor": 0
      },
      "text/plain": [
       "  0%|          | 0/276 [00:00<?, ?it/s]"
      ]
     },
     "metadata": {},
     "output_type": "display_data"
    },
    {
     "name": "stdout",
     "output_type": "stream",
     "text": [
      "Epoch: 13 Validation Loss: 1.8628 Got 110 / 276 correct 39.86%\n",
      "Epoch: 13\n"
     ]
    },
    {
     "data": {
      "application/vnd.jupyter.widget-view+json": {
       "model_id": "e37eedec7bc142289608f24dd64d6e6f",
       "version_major": 2,
       "version_minor": 0
      },
      "text/plain": [
       "  0%|          | 0/772 [00:00<?, ?it/s]"
      ]
     },
     "metadata": {},
     "output_type": "display_data"
    },
    {
     "name": "stdout",
     "output_type": "stream",
     "text": [
      "Completed 772 iterations in epoch\n",
      "Epoch: 14 Training Loss: 1.4469 Got 378 / 772 correct. Acc: 48.96%\n"
     ]
    },
    {
     "data": {
      "application/vnd.jupyter.widget-view+json": {
       "model_id": "228cc78a7dcd4b52bc4ed89fe926f57f",
       "version_major": 2,
       "version_minor": 0
      },
      "text/plain": [
       "  0%|          | 0/276 [00:00<?, ?it/s]"
      ]
     },
     "metadata": {},
     "output_type": "display_data"
    },
    {
     "name": "stdout",
     "output_type": "stream",
     "text": [
      "Epoch: 14 Validation Loss: 1.8674 Got 110 / 276 correct 39.86%\n",
      "Epoch: 14\n"
     ]
    },
    {
     "data": {
      "application/vnd.jupyter.widget-view+json": {
       "model_id": "fece2ad5c00b4c6c901c9fbaebd6f23f",
       "version_major": 2,
       "version_minor": 0
      },
      "text/plain": [
       "  0%|          | 0/772 [00:00<?, ?it/s]"
      ]
     },
     "metadata": {},
     "output_type": "display_data"
    },
    {
     "name": "stdout",
     "output_type": "stream",
     "text": [
      "Completed 772 iterations in epoch\n",
      "Epoch: 15 Training Loss: 1.4466 Got 377 / 772 correct. Acc: 48.83%\n"
     ]
    },
    {
     "data": {
      "application/vnd.jupyter.widget-view+json": {
       "model_id": "dbb30cd8f0b94bfaa8fde644cda5a8ab",
       "version_major": 2,
       "version_minor": 0
      },
      "text/plain": [
       "  0%|          | 0/276 [00:00<?, ?it/s]"
      ]
     },
     "metadata": {},
     "output_type": "display_data"
    },
    {
     "name": "stdout",
     "output_type": "stream",
     "text": [
      "Epoch: 15 Validation Loss: 1.8683 Got 110 / 276 correct 39.86%\n",
      "Epoch: 15\n"
     ]
    },
    {
     "data": {
      "application/vnd.jupyter.widget-view+json": {
       "model_id": "9d898d69669c4b618b9d9bd3bb1a933d",
       "version_major": 2,
       "version_minor": 0
      },
      "text/plain": [
       "  0%|          | 0/772 [00:00<?, ?it/s]"
      ]
     },
     "metadata": {},
     "output_type": "display_data"
    },
    {
     "name": "stdout",
     "output_type": "stream",
     "text": [
      "Completed 772 iterations in epoch\n",
      "Epoch: 16 Training Loss: 1.4463 Got 377 / 772 correct. Acc: 48.83%\n"
     ]
    },
    {
     "data": {
      "application/vnd.jupyter.widget-view+json": {
       "model_id": "ff8163032e1d4317aa3036a987815238",
       "version_major": 2,
       "version_minor": 0
      },
      "text/plain": [
       "  0%|          | 0/276 [00:00<?, ?it/s]"
      ]
     },
     "metadata": {},
     "output_type": "display_data"
    },
    {
     "name": "stdout",
     "output_type": "stream",
     "text": [
      "Epoch: 16 Validation Loss: 1.8672 Got 110 / 276 correct 39.86%\n",
      "Epoch: 16\n"
     ]
    },
    {
     "data": {
      "application/vnd.jupyter.widget-view+json": {
       "model_id": "0f869c995d3f40e5af5569c37227a334",
       "version_major": 2,
       "version_minor": 0
      },
      "text/plain": [
       "  0%|          | 0/772 [00:00<?, ?it/s]"
      ]
     },
     "metadata": {},
     "output_type": "display_data"
    },
    {
     "name": "stdout",
     "output_type": "stream",
     "text": [
      "Completed 772 iterations in epoch\n",
      "Epoch: 17 Training Loss: 1.4456 Got 376 / 772 correct. Acc: 48.70%\n"
     ]
    },
    {
     "data": {
      "application/vnd.jupyter.widget-view+json": {
       "model_id": "ae6969374bad4a158b45b9f71affc8bc",
       "version_major": 2,
       "version_minor": 0
      },
      "text/plain": [
       "  0%|          | 0/276 [00:00<?, ?it/s]"
      ]
     },
     "metadata": {},
     "output_type": "display_data"
    },
    {
     "name": "stdout",
     "output_type": "stream",
     "text": [
      "Epoch: 17 Validation Loss: 1.8654 Got 111 / 276 correct 40.22%\n",
      "Epoch: 17\n"
     ]
    },
    {
     "data": {
      "application/vnd.jupyter.widget-view+json": {
       "model_id": "b079635beab9415ca08ee39fac912284",
       "version_major": 2,
       "version_minor": 0
      },
      "text/plain": [
       "  0%|          | 0/772 [00:00<?, ?it/s]"
      ]
     },
     "metadata": {},
     "output_type": "display_data"
    },
    {
     "name": "stdout",
     "output_type": "stream",
     "text": [
      "Completed 772 iterations in epoch\n",
      "Epoch: 18 Training Loss: 1.4451 Got 380 / 772 correct. Acc: 49.22%\n"
     ]
    },
    {
     "data": {
      "application/vnd.jupyter.widget-view+json": {
       "model_id": "e0f01dd17f6a48b0b51ec4974da8b4cc",
       "version_major": 2,
       "version_minor": 0
      },
      "text/plain": [
       "  0%|          | 0/276 [00:00<?, ?it/s]"
      ]
     },
     "metadata": {},
     "output_type": "display_data"
    },
    {
     "name": "stdout",
     "output_type": "stream",
     "text": [
      "Epoch: 18 Validation Loss: 1.8728 Got 110 / 276 correct 39.86%\n",
      "Epoch: 18\n"
     ]
    },
    {
     "data": {
      "application/vnd.jupyter.widget-view+json": {
       "model_id": "a2df82b497ca49b6aa109689c38881d1",
       "version_major": 2,
       "version_minor": 0
      },
      "text/plain": [
       "  0%|          | 0/772 [00:00<?, ?it/s]"
      ]
     },
     "metadata": {},
     "output_type": "display_data"
    },
    {
     "name": "stdout",
     "output_type": "stream",
     "text": [
      "Completed 772 iterations in epoch\n",
      "Epoch: 19 Training Loss: 1.4457 Got 378 / 772 correct. Acc: 48.96%\n"
     ]
    },
    {
     "data": {
      "application/vnd.jupyter.widget-view+json": {
       "model_id": "7fb44d268a38418a89d389235af0dfb8",
       "version_major": 2,
       "version_minor": 0
      },
      "text/plain": [
       "  0%|          | 0/276 [00:00<?, ?it/s]"
      ]
     },
     "metadata": {},
     "output_type": "display_data"
    },
    {
     "name": "stdout",
     "output_type": "stream",
     "text": [
      "Epoch: 19 Validation Loss: 1.8681 Got 110 / 276 correct 39.86%\n",
      "Epoch: 19\n"
     ]
    },
    {
     "data": {
      "application/vnd.jupyter.widget-view+json": {
       "model_id": "e6358723adb64156bf27bab2a6695c17",
       "version_major": 2,
       "version_minor": 0
      },
      "text/plain": [
       "  0%|          | 0/772 [00:00<?, ?it/s]"
      ]
     },
     "metadata": {},
     "output_type": "display_data"
    },
    {
     "name": "stdout",
     "output_type": "stream",
     "text": [
      "Completed 772 iterations in epoch\n",
      "Epoch: 20 Training Loss: 1.4449 Got 378 / 772 correct. Acc: 48.96%\n"
     ]
    },
    {
     "data": {
      "application/vnd.jupyter.widget-view+json": {
       "model_id": "7ba8432442d3489a9ba06bbb3623f8e6",
       "version_major": 2,
       "version_minor": 0
      },
      "text/plain": [
       "  0%|          | 0/276 [00:00<?, ?it/s]"
      ]
     },
     "metadata": {},
     "output_type": "display_data"
    },
    {
     "name": "stdout",
     "output_type": "stream",
     "text": [
      "Epoch: 20 Validation Loss: 1.8709 Got 110 / 276 correct 39.86%\n",
      "CPU times: user 46.8 s, sys: 8.13 s, total: 55 s\n",
      "Wall time: 1min 49s\n"
     ]
    }
   ],
   "source": [
    "%%time\n",
    "num_epochs = 20\n",
    "LOSS_, ACC_, LOSS_V_, ACC_V_ = train_model(gpu(model), optimizer, epochs=num_epochs)"
   ]
  },
  {
   "cell_type": "code",
   "execution_count": 67,
   "id": "173e6da4",
   "metadata": {
    "tags": []
   },
   "outputs": [
    {
     "name": "stdout",
     "output_type": "stream",
     "text": [
      "Success!\n"
     ]
    }
   ],
   "source": [
    "PATH = f\"./model_ckpts/triplenet_finetune_epochs_{num_epochs}.dat\"\n",
    "torch.save(model, PATH)\n",
    "print(\"Success!\")"
   ]
  },
  {
   "cell_type": "code",
   "execution_count": 68,
   "id": "44654290-2f6a-4593-9477-bdd8645df366",
   "metadata": {},
   "outputs": [],
   "source": [
    "LOSS += LOSS_\n",
    "LOSS_V += LOSS_V_\n",
    "\n",
    "ACC += ACC_\n",
    "ACC_V += ACC_V_\n",
    "\n",
    "ACC = [i.cpu() for i in ACC]\n",
    "ACC_V = [i.cpu() for i in ACC_V]"
   ]
  },
  {
   "cell_type": "code",
   "execution_count": 69,
   "id": "8c25311a-b4cd-480b-bd58-b4724c31b5ab",
   "metadata": {},
   "outputs": [
    {
     "data": {
      "image/png": "[encoded data removed]",
      "text/plain": [
       "<Figure size 432x288 with 1 Axes>"
      ]
     },
     "metadata": {
      "needs_background": "light"
     },
     "output_type": "display_data"
    }
   ],
   "source": [
    "plot(LOSS, LOSS_V)"
   ]
  },
  {
   "cell_type": "code",
   "execution_count": 70,
   "id": "e67ea30f-ee18-4bf9-8cdb-ff5ff0272f0e",
   "metadata": {},
   "outputs": [
    {
     "data": {
      "image/png": "[encoded data removed]",
      "text/plain": [
       "<Figure size 432x288 with 1 Axes>"
      ]
     },
     "metadata": {
      "needs_background": "light"
     },
     "output_type": "display_data"
    }
   ],
   "source": [
    "plot(ACC, ACC_V)"
   ]
  },
  {
   "cell_type": "markdown",
   "id": "78eaa941",
   "metadata": {},
   "source": [
    "## Evaluate Top-1, Top-3 Accuracy on Test Set + Confusion Matrices"
   ]
  },
  {
   "cell_type": "code",
   "execution_count": 39,
   "id": "e629a6ae",
   "metadata": {},
   "outputs": [],
   "source": [
    "model = torch.load(f\"./model_ckpts/triplenet_finetune_epochs_{num_epochs}.dat\")\n",
    "model = gpu(model)"
   ]
  },
  {
   "cell_type": "code",
   "execution_count": 71,
   "id": "60347b32",
   "metadata": {},
   "outputs": [
    {
     "data": {
      "application/vnd.jupyter.widget-view+json": {
       "model_id": "33b4c4f0257c4c759b92489ab5cc2b91",
       "version_major": 2,
       "version_minor": 0
      },
      "text/plain": [
       "  0%|          | 0/154 [00:00<?, ?it/s]"
      ]
     },
     "metadata": {},
     "output_type": "display_data"
    },
    {
     "name": "stdout",
     "output_type": "stream",
     "text": [
      "Top 1 Accuracy of the network on the all test images: 40.91 %\n"
     ]
    }
   ],
   "source": [
    "def compute_top_1_accuracy(model):\n",
    "    correct = 0\n",
    "    total = 0\n",
    "    batches = test_dataloader\n",
    "    with torch.no_grad():\n",
    "        for x, y in tqdm(batches):\n",
    "            x, y = gpu(x.squeeze(dim=0)), gpu(y)\n",
    "            scores = model(x)\n",
    "            aggregated_scores = torch.max(scores, 0, keepdim=True)[0]\n",
    "            _, preds = torch.max(aggregated_scores, 1)\n",
    "            # _, preds = torch.max(scores, 1)\n",
    "            total += preds.size(0)\n",
    "            correct += (preds == y).sum().item()\n",
    "\n",
    "    print('Top 1 Accuracy of the network on the all test images: %.2f %%' % (\n",
    "        100 * correct / total))\n",
    "\n",
    "compute_top_1_accuracy(model)"
   ]
  },
  {
   "cell_type": "code",
   "execution_count": 72,
   "id": "f4d1ad1b",
   "metadata": {},
   "outputs": [
    {
     "data": {
      "application/vnd.jupyter.widget-view+json": {
       "model_id": "3f0fb46840264fbc81d694844057c773",
       "version_major": 2,
       "version_minor": 0
      },
      "text/plain": [
       "  0%|          | 0/154 [00:00<?, ?it/s]"
      ]
     },
     "metadata": {},
     "output_type": "display_data"
    },
    {
     "name": "stdout",
     "output_type": "stream",
     "text": [
      "Top 3 Accuracy of the network on the all test images: 68.18 %\n"
     ]
    }
   ],
   "source": [
    "def compute_top_3_accuracy(model):\n",
    "    correct = 0\n",
    "    total = 0\n",
    "    with torch.no_grad():\n",
    "        model.eval()\n",
    "        for x, y in tqdm(test_dataloader):\n",
    "            x, y = gpu(x.squeeze(dim=0)), gpu(y)\n",
    "            scores = model(x)\n",
    "            aggregated_scores = torch.max(scores, 0, keepdim=True)[0]\n",
    "            _, preds = torch.topk(aggregated_scores, 3, dim=1)\n",
    "            # _, preds = torch.topk(scores, 3, dim=1)\n",
    "            total += y.size(0)\n",
    "            for i in range(preds.shape[0]):\n",
    "                top_5_predictions = preds[i]\n",
    "                label = y[i]\n",
    "                if label in top_5_predictions:\n",
    "                    correct += 1\n",
    "    print('Top 3 Accuracy of the network on the all test images: %.2f %%' % (\n",
    "        100 * correct / total))\n",
    "    \n",
    "compute_top_3_accuracy(model)"
   ]
  },
  {
   "cell_type": "code",
   "execution_count": 73,
   "id": "7c745f15",
   "metadata": {},
   "outputs": [],
   "source": [
    "# Store y_pred and y_test on the test set for evaluation.\n",
    "\n",
    "y_pred = []\n",
    "y_test = []\n",
    "with torch.no_grad():\n",
    "    model.eval()\n",
    "    for x, y in test_dataloader:\n",
    "        x, y = gpu(x.squeeze(dim=0)), gpu(y)\n",
    "        scores = model(x)\n",
    "        aggregated_scores = torch.max(scores, 0, keepdim=True)[0]\n",
    "        _, predicted = torch.max(aggregated_scores, 1)\n",
    "        # _, predicted = torch.max(scores, 1)\n",
    "        y_pred.extend(predicted.cpu().numpy().tolist())\n",
    "        y_test.extend(y.cpu().numpy().tolist())"
   ]
  },
  {
   "cell_type": "code",
   "execution_count": 74,
   "id": "4c51b77b",
   "metadata": {},
   "outputs": [
    {
     "name": "stdout",
     "output_type": "stream",
     "text": [
      "Confusion Matrix\n",
      "\n",
      "[[61  0  0  0  0  0  0  0]\n",
      " [21  1  0  0  0  0  0  0]\n",
      " [ 4  0  0  0  0  0  0  0]\n",
      " [18  0  0  0  0  0  0  0]\n",
      " [17  0  0  0  1  0  0  0]\n",
      " [10  0  0  0  0  0  0  0]\n",
      " [11  0  0  0  0  0  0  0]\n",
      " [10  0  0  0  0  0  0  0]]\n",
      "61 61\n"
     ]
    }
   ],
   "source": [
    "cnf_matrix = confusion_matrix(y_test, y_pred)\n",
    "print('Confusion Matrix\\n')\n",
    "print(cnf_matrix)\n",
    "print(cnf_matrix[0][0], sum(cnf_matrix[0]))"
   ]
  },
  {
   "cell_type": "code",
   "execution_count": 75,
   "id": "f9485d1a",
   "metadata": {},
   "outputs": [
    {
     "data": {
      "text/plain": [
       "<AxesSubplot:>"
      ]
     },
     "execution_count": 75,
     "metadata": {},
     "output_type": "execute_result"
    },
    {
     "data": {
      "image/png": "[encoded data removed]",
      "text/plain": [
       "<Figure size 576x576 with 2 Axes>"
      ]
     },
     "metadata": {
      "needs_background": "light"
     },
     "output_type": "display_data"
    }
   ],
   "source": [
    "num_classes = 8\n",
    "array = cnf_matrix.tolist()\n",
    "df_cm = pd.DataFrame(array, index = [i for i in range(8)],\n",
    "                  columns = [i for i in range(8)])\n",
    "plt.figure(figsize = (8,8))\n",
    "sns.heatmap(df_cm, annot=True)"
   ]
  },
  {
   "cell_type": "code",
   "execution_count": null,
   "id": "0e318d61",
   "metadata": {},
   "outputs": [],
   "source": []
  }
 ],
 "metadata": {
  "kernelspec": {
   "display_name": "Python 3 (ipykernel)",
   "language": "python",
   "name": "python3"
  },
  "language_info": {
   "codemirror_mode": {
    "name": "ipython",
    "version": 3
   },
   "file_extension": ".py",
   "mimetype": "text/x-python",
   "name": "python",
   "nbconvert_exporter": "python",
   "pygments_lexer": "ipython3",
   "version": "3.8.11"
  }
 },
 "nbformat": 4,
 "nbformat_minor": 5
}
